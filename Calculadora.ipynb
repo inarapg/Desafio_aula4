{
  "nbformat": 4,
  "nbformat_minor": 0,
  "metadata": {
    "colab": {
      "provenance": [],
      "authorship_tag": "ABX9TyPJrbowtDB4g1WtXmsVi2J+",
      "include_colab_link": true
    },
    "kernelspec": {
      "name": "python3",
      "display_name": "Python 3"
    },
    "language_info": {
      "name": "python"
    }
  },
  "cells": [
    {
      "cell_type": "markdown",
      "metadata": {
        "id": "view-in-github",
        "colab_type": "text"
      },
      "source": [
        "<a href=\"https://colab.research.google.com/github/inarapg/Desafio_aula4/blob/main/Calculadora.ipynb\" target=\"_parent\"><img src=\"https://colab.research.google.com/assets/colab-badge.svg\" alt=\"Open In Colab\"/></a>"
      ]
    },
    {
      "cell_type": "code",
      "execution_count": null,
      "metadata": {
        "id": "7b2qoOHzKKNu"
      },
      "outputs": [],
      "source": [
        "# Efetuando a instalação\n",
        "!pip install -q -U google-generativeai"
      ]
    },
    {
      "cell_type": "code",
      "source": [
        "#Importando o Python SDK\n",
        "import google.generativeai as genai\n",
        "\n",
        "#Importando a formatação\n",
        "import textwrap\n",
        "from IPython.display import display\n",
        "from IPython.display import Markdown\n",
        "\n",
        "# Usado para armazenar sua chave de API com segurança\n",
        "from google.colab import userdata\n",
        "\n",
        "# Ocultando a API Key\n",
        "api_key = userdata.get(\"SECRET_KEY_CALCULADORA\")\n",
        "genai.configure(api_key=api_key)"
      ],
      "metadata": {
        "id": "_nVlx_eaLOXN"
      },
      "execution_count": null,
      "outputs": []
    },
    {
      "cell_type": "code",
      "source": [
        "# Inicializando o modelo\n",
        "model = genai.GenerativeModel(model_name='gemini-1.0-pro')"
      ],
      "metadata": {
        "id": "_t2Y0VdOuF3L"
      },
      "execution_count": null,
      "outputs": []
    },
    {
      "cell_type": "code",
      "source": [
        "# Código revisado e corrigido\n",
        "def calcular_salario_por_hora():\n",
        "    \"\"\"Calcula o valor da hora trabalhada.\"\"\"\n",
        "    while True:\n",
        "        # Entrada de dados do usuário para calcular hora trabalhada\n",
        "        try:\n",
        "            salario_desejado = float(input(\"Digite o valor do salário mensal que você deseja receber: \"))\n",
        "            horas_dia = int(input(\"Digite a quantidade de horas de trabalho por dia: \"))\n",
        "            dias_semana = int(input(\"Digite a quantidade de dias trabalhados por semana: \"))\n",
        "            if salario_desejado <= 0 or horas_dia <= 0 or dias_semana <= 0:\n",
        "                raise ValueError(\"Os valores devem ser positivos.\")\n",
        "            break\n",
        "        except ValueError as e:\n",
        "            print(f\"Erro: {e}\")\n",
        "    horas_semanais = int(horas_dia * dias_semana)\n",
        "    salario_por_hora = salario_desejado / (horas_semanais * 4)\n",
        "    print(f\"O valor mínimo da sua hora trabalhada é: R$ {salario_por_hora:.2f} reais\\n\")\n",
        "    return salario_por_hora, horas_semanais, horas_dia  # Retorna todas as variáveis necessárias\n",
        "\n",
        "def calcular_custo_produto(salario_por_hora, horas_semanais, horas_dia):\n",
        "    \"\"\"Calcula o custo de produção de um produto.\"\"\"\n",
        "    while True:\n",
        "        # Entrada de dados para calculo de custos e despesas\n",
        "        try:\n",
        "            custo_fixo = float(input(\"Digite o preço do seu custo fixo (somatório mensal): \"))\n",
        "            custo_variavel_produto = float(input(\"Digite quanto você gastou para fazer o produto (somatório de materiais): \"))\n",
        "            custo_variavel_embalagem = float(input(\"Digite quanto você gastou com a embalagem do produto (0 se não houver custo): \"))\n",
        "            custo_envio = float(input(\"Digite o custo de envio do produto (0 se não houver custo): \"))\n",
        "            horas_producao = int(input(\"Quantas horas você gastou para produzir o seu produto?: \"))\n",
        "            if any(valor <= 0 for valor in [custo_fixo, custo_variavel_produto, horas_producao]):\n",
        "                raise ValueError(\"Os valores devem ser positivos.\")\n",
        "            elif any(valor < 0 for valor in [custo_variavel_embalagem, custo_envio]):\n",
        "                raise ValueError(\"Os valores não podem ser negativo.\")\n",
        "            break\n",
        "        except ValueError as e:\n",
        "            print(f\"Erro: {e}\")\n",
        "    custo_variavel = custo_variavel_produto + custo_variavel_embalagem\n",
        "    custo_fixo_hora = custo_fixo / (horas_semanais * 4) #Considerando as horas semanais trabalhadas\n",
        "    valor_produto = custo_variavel + custo_fixo_hora + (salario_por_hora * horas_producao)\n",
        "    print(f\"Você tem um custo fixo de: R$ {custo_fixo_hora:.2f} reais por hora\")\n",
        "    print(f\"Você teve custo variável de: R$ {custo_variavel:.2f} reais para produzir o seu produto\\n\")\n",
        "    print(f\"O custo de produção do seu produto é: R$ {valor_produto:.2f} reais\\n\")\n",
        "    return valor_produto\n",
        "\n",
        "def calcular_preco_final(valor_produto, custo_envio=0):  # Adiciona custo de envio como argumento opcional\n",
        "    \"\"\"Adiciona a margem de lucro ao custo do produto.\"\"\"\n",
        "    while True:\n",
        "        # Adicionando lucro desejado\n",
        "        try:\n",
        "            lucro_desejado = float(input(\"Digite a margem de lucro desejada: \"))\n",
        "            if lucro_desejado <= 0:\n",
        "                raise ValueError(\"A margem de lucro deve ser positiva.\")\n",
        "            break\n",
        "        except ValueError as e:\n",
        "            print(f\"Erro: {e}\")\n",
        "    margem_lucro = lucro_desejado / 100\n",
        "    valor_final = (valor_produto + custo_envio) + (valor_produto * margem_lucro)  # Inclui custo de envio\n",
        "    print(f\"O valor final do seu produto é: R$ {valor_final:.2f} reais\\n\")\n",
        "\n",
        "def calcular_valor_servico(salario_por_hora, horas_dia):\n",
        "    \"\"\"Calcula o valor mínimo da hora trabalhada para um serviço.\"\"\"\n",
        "    print(f\"Dica: Não aceite trabalhar por menos que R$ {salario_por_hora:.2f} por hora!\\n\")\n",
        "    while True:\n",
        "        # Calculando valor de serviço\n",
        "        try:\n",
        "            despesa_fixa_servico = float(input(\"Digite a despesa fixa mensal com o seu serviço: \"))\n",
        "            despesa_variavel_servico = float(input(\"Digite a despesa variável para esse serviço: \"))\n",
        "            lucro_desejado = float(input(\"Digite a margem de lucro desejada: \"))\n",
        "            horas_servico = int(input(\"Digite as horas de trabalho necessárias para realizar esse serviço: \"))\n",
        "            if any(valor <= 0 for valor in [despesa_fixa_servico, despesa_variavel_servico, lucro_desejado, horas_servico]):\n",
        "                raise ValueError(\"Os valores devem ser positivos.\")\n",
        "            break\n",
        "        except ValueError as e:\n",
        "            print(f\"Erro: {e}\")\n",
        "\n",
        "    # Fórmula de markup corrigida\n",
        "    custo_total = (salario_por_hora * horas_servico) + despesa_fixa_servico + despesa_variavel_servico\n",
        "    markup = (lucro_desejado / 100) + 1\n",
        "    valor_final_servico = custo_total * markup\n",
        "    print(f\"\\nO valor final do seu serviço deveria ser: R$ {valor_final_servico:.2f} reais\")\n",
        "    print(f\"O valor da sua hora de serviço deveria ser: R$ {(valor_final_servico / horas_servico):.2f} reais\\n\")\n",
        "\n",
        "# Inicio da interação com o usuário\n",
        "print('Olá! Sou um SIMULADOR DE PREÇOS')\n",
        "print('Calcule o valor do seu produto ou serviço de forma automática\\n')\n",
        "print('Digite no campo abaixo uma das opções:')\n",
        "print('Produto -> Cálculo do preço de produto')\n",
        "print('Serviço -> Cálculo do valor de serviço')\n",
        "print('Fim -> Finaliza a interação\\n')\n",
        "\n",
        "# Condições para funcionamnto do código\n",
        "while True:\n",
        "    prompt = input(f'Digite a opção desejada: ').lower()\n",
        "    if prompt == 'produto':\n",
        "        salario_hora, horas_semanais, horas_dia = calcular_salario_por_hora()\n",
        "        valor_produto = calcular_custo_produto(salario_hora, horas_semanais, horas_dia)\n",
        "        calcular_preco_final(valor_produto)  # Adicione o custo de envio, se necessário\n",
        "    elif prompt == 'serviço' or prompt == 'servico':\n",
        "        salario_hora, horas_semanais, horas_dia = calcular_salario_por_hora()\n",
        "        calcular_valor_servico(salario_hora, horas_dia)\n",
        "    elif prompt == 'fim':\n",
        "        break\n",
        "    else:\n",
        "        print(\"Comando inválido. Digite 'Produto', 'Serviço' ou 'Fim'.\")"
      ],
      "metadata": {
        "colab": {
          "base_uri": "https://localhost:8080/"
        },
        "id": "XODBCpwommEw",
        "outputId": "185ed224-c9d6-4e82-c07b-e69384895a2f"
      },
      "execution_count": null,
      "outputs": [
        {
          "name": "stdout",
          "output_type": "stream",
          "text": [
            "Olá! Sou um SIMULADOR DE PREÇOS\n",
            "Calcule o valor do seu produto ou serviço de forma automática\n",
            "\n",
            "Digite no campo abaixo uma das opções:\n",
            "Produto -> Cálculo do preço de produto\n",
            "Serviço -> Cálculo do valor de serviço\n",
            "Fim -> Finaliza a interação\n",
            "\n",
            "Digite a opção desejada: produto\n",
            "Digite o valor do salário mensal que você deseja receber: 2500\n",
            "Digite a quantidade de horas de trabalho por dia: 8\n",
            "Digite a quantidade de dias trabalhados por semana: 4\n",
            "O valor mínimo da sua hora trabalhada é: R$ 19.53 reais\n",
            "\n",
            "Digite o preço do seu custo fixo (somatório mensal): 400\n",
            "Digite quanto você gastou para fazer o produto (somatório de materiais): 150\n",
            "Digite quanto você gastou com a embalagem do produto (0 se não houver custo): 0\n",
            "Digite o custo de envio do produto (0 se não houver custo): 0\n",
            "Quantas horas você gastou para produzir o seu produto?: 2\n",
            "Você tem um custo fixo de: R$ 3.12 reais por hora\n",
            "Você teve custo variável de: R$ 150.00 reais para produzir o seu produto\n",
            "\n",
            "O custo de produção do seu produto é: R$ 192.19 reais\n",
            "\n",
            "Digite a margem de lucro desejada: 15\n",
            "O valor final do seu produto é: R$ 221.02 reais\n",
            "\n",
            "Digite a opção desejada: servico\n",
            "Digite o valor do salário mensal que você deseja receber: 1500\n",
            "Digite a quantidade de horas de trabalho por dia: 8\n",
            "Digite a quantidade de dias trabalhados por semana: 5\n",
            "O valor mínimo da sua hora trabalhada é: R$ 9.38 reais\n",
            "\n",
            "Dica: Não aceite trabalhar por menos que R$ 9.38 por hora!\n",
            "\n",
            "Digite a despesa fixa mensal com o seu serviço: 40\n",
            "Digite a despesa variável para esse serviço: 50\n",
            "Digite a margem de lucro desejada: 15\n",
            "Digite as horas de trabalho necessárias para realizar esse serviço: 8\n",
            "\n",
            "O valor final do seu serviço deveria ser: R$ 189.75 reais\n",
            "O valor da sua hora de serviço deveria ser: R$ 23.72 reais\n",
            "\n",
            "Digite a opção desejada: fim\n"
          ]
        }
      ]
    }
  ]
}